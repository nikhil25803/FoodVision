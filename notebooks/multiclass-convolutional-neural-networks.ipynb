{
 "cells": [
  {
   "cell_type": "markdown",
   "id": "6937b52d",
   "metadata": {
    "papermill": {
     "duration": 0.006229,
     "end_time": "2023-01-15T18:36:03.239726",
     "exception": false,
     "start_time": "2023-01-15T18:36:03.233497",
     "status": "completed"
    },
    "tags": []
   },
   "source": [
    "**Multi-class Immage Classification**\n",
    "\n",
    "+ Become one with data\n",
    "+ Preprocess the data (get it ready for a mobile)\n",
    "+ Create a model (start with a baseline)\n",
    "+ Fit the model (overfit it to make sure it works)\n",
    "+ Evaluate the model\n",
    "+ Addjust different hyperparameters and  improve the model\n",
    "+ Repeat untill  a satisfactory accuracy is achieved"
   ]
  },
  {
   "cell_type": "code",
   "execution_count": 3,
   "metadata": {},
   "outputs": [],
   "source": [
    "import zipfile"
   ]
  },
  {
   "cell_type": "code",
   "execution_count": 5,
   "metadata": {},
   "outputs": [
    {
     "name": "stdout",
     "output_type": "stream",
     "text": [
      "\n",
      "Saved under 10_food_classes_all_data.zip\n"
     ]
    }
   ],
   "source": [
    "!python -m wget https://storage.googleapis.com/ztm_tf_course/food_vision/10_food_classes_all_data.zip"
   ]
  },
  {
   "cell_type": "code",
   "execution_count": 6,
   "id": "7bad54dd",
   "metadata": {
    "execution": {
     "iopub.execute_input": "2023-01-15T18:36:03.253591Z",
     "iopub.status.busy": "2023-01-15T18:36:03.253334Z",
     "iopub.status.idle": "2023-01-15T18:36:22.458255Z",
     "shell.execute_reply": "2023-01-15T18:36:22.457017Z"
    },
    "papermill": {
     "duration": 19.21508,
     "end_time": "2023-01-15T18:36:22.461275",
     "exception": false,
     "start_time": "2023-01-15T18:36:03.246195",
     "status": "completed"
    },
    "tags": []
   },
   "outputs": [],
   "source": [
    "# Unzip the data\n",
    "zip_ref = zipfile.ZipFile(\"10_food_classes_all_data.zip\",\"r\")\n",
    "zip_ref.extractall()\n",
    "zip_ref.close()"
   ]
  },
  {
   "cell_type": "code",
   "execution_count": 3,
   "id": "4fe7b22b",
   "metadata": {
    "execution": {
     "iopub.execute_input": "2023-01-15T18:36:22.486279Z",
     "iopub.status.busy": "2023-01-15T18:36:22.485902Z",
     "iopub.status.idle": "2023-01-15T18:36:22.507051Z",
     "shell.execute_reply": "2023-01-15T18:36:22.505862Z"
    },
    "papermill": {
     "duration": 0.037651,
     "end_time": "2023-01-15T18:36:22.510754",
     "exception": false,
     "start_time": "2023-01-15T18:36:22.473103",
     "status": "completed"
    },
    "tags": []
   },
   "outputs": [
    {
     "name": "stdout",
     "output_type": "stream",
     "text": [
      "There are 2 directories and 0 images in 10_food_classes_all_data.\n",
      "There are 10 directories and 0 images in 10_food_classes_all_data/train.\n",
      "There are 0 directories and 750 images in 10_food_classes_all_data/train/grilled_salmon.\n",
      "There are 0 directories and 750 images in 10_food_classes_all_data/train/chicken_wings.\n",
      "There are 0 directories and 750 images in 10_food_classes_all_data/train/sushi.\n",
      "There are 0 directories and 750 images in 10_food_classes_all_data/train/ice_cream.\n",
      "There are 0 directories and 750 images in 10_food_classes_all_data/train/ramen.\n",
      "There are 0 directories and 750 images in 10_food_classes_all_data/train/pizza.\n",
      "There are 0 directories and 750 images in 10_food_classes_all_data/train/chicken_curry.\n",
      "There are 0 directories and 750 images in 10_food_classes_all_data/train/fried_rice.\n",
      "There are 0 directories and 750 images in 10_food_classes_all_data/train/steak.\n",
      "There are 0 directories and 750 images in 10_food_classes_all_data/train/hamburger.\n",
      "There are 10 directories and 0 images in 10_food_classes_all_data/test.\n",
      "There are 0 directories and 250 images in 10_food_classes_all_data/test/grilled_salmon.\n",
      "There are 0 directories and 250 images in 10_food_classes_all_data/test/chicken_wings.\n",
      "There are 0 directories and 250 images in 10_food_classes_all_data/test/sushi.\n",
      "There are 0 directories and 250 images in 10_food_classes_all_data/test/ice_cream.\n",
      "There are 0 directories and 250 images in 10_food_classes_all_data/test/ramen.\n",
      "There are 0 directories and 250 images in 10_food_classes_all_data/test/pizza.\n",
      "There are 0 directories and 250 images in 10_food_classes_all_data/test/chicken_curry.\n",
      "There are 0 directories and 250 images in 10_food_classes_all_data/test/fried_rice.\n",
      "There are 0 directories and 250 images in 10_food_classes_all_data/test/steak.\n",
      "There are 0 directories and 250 images in 10_food_classes_all_data/test/hamburger.\n"
     ]
    }
   ],
   "source": [
    "import os\n",
    "\n",
    "# Walk through  classes of food image data\n",
    "for dirpath, dirnames, filenames in os.walk(\"10_food_classes_all_data\"):\n",
    "    print(f\"There are {len(dirnames)} directories and {len(filenames)} images in {dirpath}.\")\n",
    "    "
   ]
  },
  {
   "cell_type": "code",
   "execution_count": 4,
   "id": "0213f43f",
   "metadata": {
    "execution": {
     "iopub.execute_input": "2023-01-15T18:36:22.537833Z",
     "iopub.status.busy": "2023-01-15T18:36:22.536814Z",
     "iopub.status.idle": "2023-01-15T18:36:22.542112Z",
     "shell.execute_reply": "2023-01-15T18:36:22.541126Z"
    },
    "papermill": {
     "duration": 0.019865,
     "end_time": "2023-01-15T18:36:22.544340",
     "exception": false,
     "start_time": "2023-01-15T18:36:22.524475",
     "status": "completed"
    },
    "tags": []
   },
   "outputs": [],
   "source": [
    "# Setup train and test directory\n",
    "\n",
    "train_dir = \"10_food_classes_all_data/train/\"\n",
    "test_dir = \"10_food_classes_all_data/test/\""
   ]
  },
  {
   "cell_type": "code",
   "execution_count": null,
   "metadata": {},
   "outputs": [],
   "source": [
    "# Setup train and test directory\n",
    "\n",
    "train_dir = \"data/10_food_classes_all_data/train/\"\n",
    "test_dir = \"data/10_food_classes_all_data/test/\""
   ]
  },
  {
   "cell_type": "code",
   "execution_count": 5,
   "id": "b7fe21aa",
   "metadata": {
    "execution": {
     "iopub.execute_input": "2023-01-15T18:36:22.568846Z",
     "iopub.status.busy": "2023-01-15T18:36:22.567859Z",
     "iopub.status.idle": "2023-01-15T18:36:22.575155Z",
     "shell.execute_reply": "2023-01-15T18:36:22.574204Z"
    },
    "papermill": {
     "duration": 0.021887,
     "end_time": "2023-01-15T18:36:22.577400",
     "exception": false,
     "start_time": "2023-01-15T18:36:22.555513",
     "status": "completed"
    },
    "tags": []
   },
   "outputs": [],
   "source": [
    "import matplotlib.pyplot as plt\n",
    "import matplotlib.image as mpig\n",
    "import random\n",
    "\n",
    "\n",
    "def view_random_image(target_dir:str, target_class:str):\n",
    "    # Setup the target directory\n",
    "    target_folder = target_dir+target_class\n",
    "    random_image = random.sample(os.listdir(target_folder),1)\n",
    "    \n",
    "    # Read into image and plot it using matplotlib\n",
    "    img = mpig.imread(target_folder+\"/\"+random_image[0])\n",
    "    plt.imshow(img)\n",
    "    plt.title(target_class)\n",
    "    plt.axis(\"off\")\n",
    "    \n",
    "    print(f\"Image shape: {img.shape}\")\n",
    "    \n",
    "    return img"
   ]
  },
  {
   "cell_type": "code",
   "execution_count": 6,
   "id": "3810b34b",
   "metadata": {
    "execution": {
     "iopub.execute_input": "2023-01-15T18:36:22.601277Z",
     "iopub.status.busy": "2023-01-15T18:36:22.600430Z",
     "iopub.status.idle": "2023-01-15T18:36:22.618396Z",
     "shell.execute_reply": "2023-01-15T18:36:22.616579Z"
    },
    "papermill": {
     "duration": 0.035021,
     "end_time": "2023-01-15T18:36:22.623475",
     "exception": false,
     "start_time": "2023-01-15T18:36:22.588454",
     "status": "completed"
    },
    "tags": []
   },
   "outputs": [
    {
     "name": "stdout",
     "output_type": "stream",
     "text": [
      "['chicken_curry' 'chicken_wings' 'fried_rice' 'grilled_salmon' 'hamburger'\n",
      " 'ice_cream' 'pizza' 'ramen' 'steak' 'sushi']\n"
     ]
    }
   ],
   "source": [
    "# Lets class anmes\n",
    "import pathlib\n",
    "import numpy as np\n",
    "\n",
    "data_dir = pathlib.Path(train_dir)\n",
    "class_names = np.array(sorted([item.name for item in data_dir.glob(\"*\")]))\n",
    "print(class_names)"
   ]
  },
  {
   "cell_type": "code",
   "execution_count": 7,
   "id": "e7751ef5",
   "metadata": {
    "execution": {
     "iopub.execute_input": "2023-01-15T18:36:22.647972Z",
     "iopub.status.busy": "2023-01-15T18:36:22.647656Z",
     "iopub.status.idle": "2023-01-15T18:36:23.020364Z",
     "shell.execute_reply": "2023-01-15T18:36:23.019340Z"
    },
    "papermill": {
     "duration": 0.387706,
     "end_time": "2023-01-15T18:36:23.023567",
     "exception": false,
     "start_time": "2023-01-15T18:36:22.635861",
     "status": "completed"
    },
    "tags": []
   },
   "outputs": [
    {
     "name": "stdout",
     "output_type": "stream",
     "text": [
      "Image shape: (512, 512, 3)\n"
     ]
    },
    {
     "data": {
      "image/png": "[encoded data removed]",
      "text/plain": [
       "<Figure size 432x288 with 1 Axes>"
      ]
     },
     "metadata": {
      "needs_background": "light"
     },
     "output_type": "display_data"
    }
   ],
   "source": [
    "# Visualize (data exploration)\n",
    "import random\n",
    "img = view_random_image(target_dir=train_dir, target_class=random.choice(class_names))\n"
   ]
  },
  {
   "cell_type": "markdown",
   "id": "4161326d",
   "metadata": {
    "papermill": {
     "duration": 0.011376,
     "end_time": "2023-01-15T18:36:23.046679",
     "exception": false,
     "start_time": "2023-01-15T18:36:23.035303",
     "status": "completed"
    },
    "tags": []
   },
   "source": [
    "**Preprocessing**"
   ]
  },
  {
   "cell_type": "code",
   "execution_count": 8,
   "id": "a3937d7a",
   "metadata": {
    "execution": {
     "iopub.execute_input": "2023-01-15T18:36:23.070816Z",
     "iopub.status.busy": "2023-01-15T18:36:23.070184Z",
     "iopub.status.idle": "2023-01-15T18:36:28.625575Z",
     "shell.execute_reply": "2023-01-15T18:36:28.623844Z"
    },
    "papermill": {
     "duration": 5.569788,
     "end_time": "2023-01-15T18:36:28.627763",
     "exception": false,
     "start_time": "2023-01-15T18:36:23.057975",
     "status": "completed"
    },
    "tags": []
   },
   "outputs": [
    {
     "name": "stdout",
     "output_type": "stream",
     "text": [
      "Found 7500 images belonging to 10 classes.\n",
      "Found 2500 images belonging to 10 classes.\n"
     ]
    }
   ],
   "source": [
    "from tensorflow.keras.preprocessing.image import ImageDataGenerator\n",
    "\n",
    "# Rescale\n",
    "train_datagen = ImageDataGenerator(rescale=1/255.)\n",
    "test_datagen = ImageDataGenerator(rescale=1/255.)\n",
    "\n",
    "# Load data into batches\n",
    "train_data = train_datagen.flow_from_directory(train_dir, \n",
    "                                               target_size=(224,224),\n",
    "                                              batch_size=32,\n",
    "                                              class_mode=\"categorical\")\n",
    "\n",
    "test_data = test_datagen.flow_from_directory(test_dir,\n",
    "                                            target_size=(224,224),\n",
    "                                            batch_size=32,\n",
    "                                            class_mode=\"categorical\")"
   ]
  },
  {
   "cell_type": "markdown",
   "id": "c8152d9c",
   "metadata": {
    "papermill": {
     "duration": 0.01144,
     "end_time": "2023-01-15T18:36:28.650828",
     "exception": false,
     "start_time": "2023-01-15T18:36:28.639388",
     "status": "completed"
    },
    "tags": []
   },
   "source": [
    "**Create a model**\n",
    "\n",
    "With a baseline, create a model and try to beat that in furthur steps."
   ]
  },
  {
   "cell_type": "code",
   "execution_count": 9,
   "id": "0b5f669e",
   "metadata": {
    "execution": {
     "iopub.execute_input": "2023-01-15T18:36:28.675398Z",
     "iopub.status.busy": "2023-01-15T18:36:28.674813Z",
     "iopub.status.idle": "2023-01-15T18:36:31.764174Z",
     "shell.execute_reply": "2023-01-15T18:36:31.761991Z"
    },
    "papermill": {
     "duration": 3.103967,
     "end_time": "2023-01-15T18:36:31.766319",
     "exception": false,
     "start_time": "2023-01-15T18:36:28.662352",
     "status": "completed"
    },
    "tags": []
   },
   "outputs": [
    {
     "name": "stderr",
     "output_type": "stream",
     "text": [
      "2023-01-15 18:36:28.762039: I tensorflow/stream_executor/cuda/cuda_gpu_executor.cc:937] successful NUMA node read from SysFS had negative value (-1), but there must be at least one NUMA node, so returning NUMA node zero\n",
      "2023-01-15 18:36:28.846646: I tensorflow/stream_executor/cuda/cuda_gpu_executor.cc:937] successful NUMA node read from SysFS had negative value (-1), but there must be at least one NUMA node, so returning NUMA node zero\n",
      "2023-01-15 18:36:28.847491: I tensorflow/stream_executor/cuda/cuda_gpu_executor.cc:937] successful NUMA node read from SysFS had negative value (-1), but there must be at least one NUMA node, so returning NUMA node zero\n",
      "2023-01-15 18:36:28.852201: I tensorflow/core/platform/cpu_feature_guard.cc:142] This TensorFlow binary is optimized with oneAPI Deep Neural Network Library (oneDNN) to use the following CPU instructions in performance-critical operations:  AVX2 AVX512F FMA\n",
      "To enable them in other operations, rebuild TensorFlow with the appropriate compiler flags.\n",
      "2023-01-15 18:36:28.852527: I tensorflow/stream_executor/cuda/cuda_gpu_executor.cc:937] successful NUMA node read from SysFS had negative value (-1), but there must be at least one NUMA node, so returning NUMA node zero\n",
      "2023-01-15 18:36:28.853465: I tensorflow/stream_executor/cuda/cuda_gpu_executor.cc:937] successful NUMA node read from SysFS had negative value (-1), but there must be at least one NUMA node, so returning NUMA node zero\n",
      "2023-01-15 18:36:28.854168: I tensorflow/stream_executor/cuda/cuda_gpu_executor.cc:937] successful NUMA node read from SysFS had negative value (-1), but there must be at least one NUMA node, so returning NUMA node zero\n",
      "2023-01-15 18:36:31.339009: I tensorflow/stream_executor/cuda/cuda_gpu_executor.cc:937] successful NUMA node read from SysFS had negative value (-1), but there must be at least one NUMA node, so returning NUMA node zero\n",
      "2023-01-15 18:36:31.339837: I tensorflow/stream_executor/cuda/cuda_gpu_executor.cc:937] successful NUMA node read from SysFS had negative value (-1), but there must be at least one NUMA node, so returning NUMA node zero\n",
      "2023-01-15 18:36:31.340500: I tensorflow/stream_executor/cuda/cuda_gpu_executor.cc:937] successful NUMA node read from SysFS had negative value (-1), but there must be at least one NUMA node, so returning NUMA node zero\n",
      "2023-01-15 18:36:31.341113: I tensorflow/core/common_runtime/gpu/gpu_device.cc:1510] Created device /job:localhost/replica:0/task:0/device:GPU:0 with 15401 MB memory:  -> device: 0, name: Tesla P100-PCIE-16GB, pci bus id: 0000:00:04.0, compute capability: 6.0\n"
     ]
    }
   ],
   "source": [
    "import tensorflow as tf\n",
    "from tensorflow.keras.models import Sequential\n",
    "from tensorflow.keras.layers import Conv2D, MaxPool2D, Flatten, Dense\n",
    "\n",
    "# Replicating a model which is at CNN explainer website\n",
    "model_1 = Sequential([\n",
    "    Conv2D(10,3,input_shape=(224,224,3), activation=\"relu\"),\n",
    "    Conv2D(10,3,activation=\"relu\"),\n",
    "    MaxPool2D(),\n",
    "    Conv2D(10,3,activation=\"relu\"),\n",
    "    Conv2D(10,3,activation=\"relu\"),\n",
    "    MaxPool2D(),\n",
    "    Flatten(),\n",
    "    Dense(10, activation=\"softmax\")\n",
    "])\n",
    "\n",
    "# Compile the model\n",
    "model_1.compile(loss=\"categorical_crossentropy\",\n",
    "               optimizer=tf.keras.optimizers.Adam(),\n",
    "               metrics=['accuracy'])"
   ]
  },
  {
   "cell_type": "code",
   "execution_count": 10,
   "id": "d71b412b",
   "metadata": {
    "execution": {
     "iopub.execute_input": "2023-01-15T18:36:31.791608Z",
     "iopub.status.busy": "2023-01-15T18:36:31.790867Z",
     "iopub.status.idle": "2023-01-15T18:40:59.247043Z",
     "shell.execute_reply": "2023-01-15T18:40:59.245986Z"
    },
    "papermill": {
     "duration": 267.471574,
     "end_time": "2023-01-15T18:40:59.249757",
     "exception": false,
     "start_time": "2023-01-15T18:36:31.778183",
     "status": "completed"
    },
    "tags": []
   },
   "outputs": [
    {
     "name": "stderr",
     "output_type": "stream",
     "text": [
      "2023-01-15 18:36:32.011903: I tensorflow/compiler/mlir/mlir_graph_optimization_pass.cc:185] None of the MLIR Optimization Passes are enabled (registered 2)\n"
     ]
    },
    {
     "name": "stdout",
     "output_type": "stream",
     "text": [
      "Epoch 1/5\n"
     ]
    },
    {
     "name": "stderr",
     "output_type": "stream",
     "text": [
      "2023-01-15 18:36:33.407408: I tensorflow/stream_executor/cuda/cuda_dnn.cc:369] Loaded cuDNN version 8005\n"
     ]
    },
    {
     "name": "stdout",
     "output_type": "stream",
     "text": [
      "235/235 [==============================] - 52s 192ms/step - loss: 2.1395 - accuracy: 0.2148 - val_loss: 2.1236 - val_accuracy: 0.2464\n",
      "Epoch 2/5\n",
      "235/235 [==============================] - 45s 191ms/step - loss: 1.9368 - accuracy: 0.3199 - val_loss: 1.9444 - val_accuracy: 0.3220\n",
      "Epoch 3/5\n",
      "235/235 [==============================] - 44s 186ms/step - loss: 1.7069 - accuracy: 0.4199 - val_loss: 1.8905 - val_accuracy: 0.3420\n",
      "Epoch 4/5\n",
      "235/235 [==============================] - 44s 188ms/step - loss: 1.1970 - accuracy: 0.6041 - val_loss: 2.2034 - val_accuracy: 0.2956\n",
      "Epoch 5/5\n",
      "235/235 [==============================] - 48s 203ms/step - loss: 0.5424 - accuracy: 0.8276 - val_loss: 3.1214 - val_accuracy: 0.2908\n"
     ]
    }
   ],
   "source": [
    "# Fit the model\n",
    "history_1 = model_1.fit(train_data,\n",
    "                       epochs=5,\n",
    "                       steps_per_epoch=len(train_data),\n",
    "                        validation_data=test_data,\n",
    "                        validation_steps=len(test_data))"
   ]
  },
  {
   "cell_type": "code",
   "execution_count": 11,
   "id": "6c008212",
   "metadata": {
    "execution": {
     "iopub.execute_input": "2023-01-15T18:40:59.395954Z",
     "iopub.status.busy": "2023-01-15T18:40:59.394997Z",
     "iopub.status.idle": "2023-01-15T18:41:10.520985Z",
     "shell.execute_reply": "2023-01-15T18:41:10.519962Z"
    },
    "papermill": {
     "duration": 11.200477,
     "end_time": "2023-01-15T18:41:10.523081",
     "exception": false,
     "start_time": "2023-01-15T18:40:59.322604",
     "status": "completed"
    },
    "tags": []
   },
   "outputs": [
    {
     "name": "stdout",
     "output_type": "stream",
     "text": [
      "79/79 [==============================] - 11s 138ms/step - loss: 3.1214 - accuracy: 0.2908\n"
     ]
    },
    {
     "data": {
      "text/plain": [
       "[3.121372938156128, 0.290800005197525]"
      ]
     },
     "execution_count": 11,
     "metadata": {},
     "output_type": "execute_result"
    }
   ],
   "source": [
    "# Evaluate the model\n",
    "model_1.evaluate(test_data)"
   ]
  },
  {
   "cell_type": "code",
   "execution_count": 12,
   "id": "07ee8824",
   "metadata": {
    "execution": {
     "iopub.execute_input": "2023-01-15T18:41:10.676571Z",
     "iopub.status.busy": "2023-01-15T18:41:10.676233Z",
     "iopub.status.idle": "2023-01-15T18:41:10.683429Z",
     "shell.execute_reply": "2023-01-15T18:41:10.682449Z"
    },
    "papermill": {
     "duration": 0.085766,
     "end_time": "2023-01-15T18:41:10.685439",
     "exception": false,
     "start_time": "2023-01-15T18:41:10.599673",
     "status": "completed"
    },
    "tags": []
   },
   "outputs": [],
   "source": [
    "# Check out model loss curves\n",
    "def plot_loss_curves(history):\n",
    "    \"\"\"\n",
    "    Returns seperate loss curves for training \n",
    "    \"\"\"\n",
    "    loss = history.history[\"loss\"]\n",
    "    val_loss = history.history[\"val_loss\"]\n",
    "    \n",
    "    accuracy = history.history[\"accuracy\"]\n",
    "    val_accuracy = history.history[\"val_accuracy\"]\n",
    "    \n",
    "    epochs = range(len(history.history[\"loss\"]))\n",
    "    \n",
    "    # Loss\n",
    "    plt.plot(epochs, loss, label=\"Train Loss\")\n",
    "    plt.plot(epochs, val_loss, label=\"Validity Loss\")\n",
    "    plt.title(\"loss\")\n",
    "    plt.xlabel(\"epochs\")\n",
    "    plt.legend()\n",
    "    \n",
    "    # Accuracy\n",
    "    plt.figure()\n",
    "    plt.plot(epochs, accuracy, label=\"Train accuracy\")\n",
    "    plt.plot(epochs, val_accuracy, label=\"Validity accuracy\")\n",
    "    plt.title(\"loss\")\n",
    "    plt.xlabel(\"epochs\")\n",
    "    plt.legend()"
   ]
  },
  {
   "cell_type": "code",
   "execution_count": 13,
   "id": "c3e4bf45",
   "metadata": {
    "execution": {
     "iopub.execute_input": "2023-01-15T18:41:10.837977Z",
     "iopub.status.busy": "2023-01-15T18:41:10.837624Z",
     "iopub.status.idle": "2023-01-15T18:41:11.252653Z",
     "shell.execute_reply": "2023-01-15T18:41:11.251764Z"
    },
    "papermill": {
     "duration": 0.493495,
     "end_time": "2023-01-15T18:41:11.254720",
     "exception": false,
     "start_time": "2023-01-15T18:41:10.761225",
     "status": "completed"
    },
    "tags": []
   },
   "outputs": [
    {
     "data": {
      "image/png": "[encoded data removed]",
      "text/plain": [
       "<Figure size 432x288 with 1 Axes>"
      ]
     },
     "metadata": {
      "needs_background": "light"
     },
     "output_type": "display_data"
    },
    {
     "data": {
      "image/png": "[encoded data removed]",
      "text/plain": [
       "<Figure size 432x288 with 1 Axes>"
      ]
     },
     "metadata": {
      "needs_background": "light"
     },
     "output_type": "display_data"
    }
   ],
   "source": [
    "plot_loss_curves(history_1)"
   ]
  },
  {
   "cell_type": "markdown",
   "id": "d7847a02",
   "metadata": {
    "papermill": {
     "duration": 0.075857,
     "end_time": "2023-01-15T18:41:11.406362",
     "exception": false,
     "start_time": "2023-01-15T18:41:11.330505",
     "status": "completed"
    },
    "tags": []
   },
   "source": [
    "**Model is overfitting on training data**\n",
    "\n",
    "Better result on training data, but not able to generalise on test data or unseen data."
   ]
  },
  {
   "cell_type": "markdown",
   "id": "dba0cd83",
   "metadata": {
    "papermill": {
     "duration": 0.076139,
     "end_time": "2023-01-15T18:41:11.558346",
     "exception": false,
     "start_time": "2023-01-15T18:41:11.482207",
     "status": "completed"
    },
    "tags": []
   },
   "source": [
    "**Hyperparameter tuning to beat the baseline**\n",
    "\n",
    "Model is not able to generalise on unseen data. This overfitting can be solved by few steps\n",
    "\n",
    "+ More data\n",
    "+ Simplify the model (model may be too complicated to learn.\n",
    "    + More Data.\n",
    "    + Data augmentation - Data augmentation model add diversity to the training.\n",
    "    + Use transfer learning - leverages the patterns another model  has already learned."
   ]
  },
  {
   "cell_type": "code",
   "execution_count": 14,
   "id": "ff0db4b2",
   "metadata": {
    "execution": {
     "iopub.execute_input": "2023-01-15T18:41:11.711723Z",
     "iopub.status.busy": "2023-01-15T18:41:11.710713Z",
     "iopub.status.idle": "2023-01-15T18:41:11.719848Z",
     "shell.execute_reply": "2023-01-15T18:41:11.718122Z"
    },
    "papermill": {
     "duration": 0.088052,
     "end_time": "2023-01-15T18:41:11.721984",
     "exception": false,
     "start_time": "2023-01-15T18:41:11.633932",
     "status": "completed"
    },
    "tags": []
   },
   "outputs": [
    {
     "name": "stdout",
     "output_type": "stream",
     "text": [
      "Model: \"sequential\"\n",
      "_________________________________________________________________\n",
      "Layer (type)                 Output Shape              Param #   \n",
      "=================================================================\n",
      "conv2d (Conv2D)              (None, 222, 222, 10)      280       \n",
      "_________________________________________________________________\n",
      "conv2d_1 (Conv2D)            (None, 220, 220, 10)      910       \n",
      "_________________________________________________________________\n",
      "max_pooling2d (MaxPooling2D) (None, 110, 110, 10)      0         \n",
      "_________________________________________________________________\n",
      "conv2d_2 (Conv2D)            (None, 108, 108, 10)      910       \n",
      "_________________________________________________________________\n",
      "conv2d_3 (Conv2D)            (None, 106, 106, 10)      910       \n",
      "_________________________________________________________________\n",
      "max_pooling2d_1 (MaxPooling2 (None, 53, 53, 10)        0         \n",
      "_________________________________________________________________\n",
      "flatten (Flatten)            (None, 28090)             0         \n",
      "_________________________________________________________________\n",
      "dense (Dense)                (None, 10)                280910    \n",
      "=================================================================\n",
      "Total params: 283,920\n",
      "Trainable params: 283,920\n",
      "Non-trainable params: 0\n",
      "_________________________________________________________________\n"
     ]
    }
   ],
   "source": [
    "# Try simplifying the moldel\n",
    "model_1.summary()"
   ]
  },
  {
   "cell_type": "markdown",
   "id": "3cbbcae6",
   "metadata": {
    "papermill": {
     "duration": 0.131909,
     "end_time": "2023-01-15T18:41:11.929838",
     "exception": false,
     "start_time": "2023-01-15T18:41:11.797929",
     "status": "completed"
    },
    "tags": []
   },
   "source": [
    "**Try smacking 2 Conv2D layer from model 1**"
   ]
  },
  {
   "cell_type": "code",
   "execution_count": 15,
   "id": "7cdc53c7",
   "metadata": {
    "execution": {
     "iopub.execute_input": "2023-01-15T18:41:12.085266Z",
     "iopub.status.busy": "2023-01-15T18:41:12.084898Z",
     "iopub.status.idle": "2023-01-15T18:45:29.411811Z",
     "shell.execute_reply": "2023-01-15T18:45:29.410713Z"
    },
    "papermill": {
     "duration": 257.407623,
     "end_time": "2023-01-15T18:45:29.414270",
     "exception": false,
     "start_time": "2023-01-15T18:41:12.006647",
     "status": "completed"
    },
    "tags": []
   },
   "outputs": [
    {
     "name": "stdout",
     "output_type": "stream",
     "text": [
      "Epoch 1/5\n",
      "235/235 [==============================] - 44s 187ms/step - loss: 2.0590 - accuracy: 0.2628 - val_loss: 1.8826 - val_accuracy: 0.3640\n",
      "Epoch 2/5\n",
      "235/235 [==============================] - 44s 186ms/step - loss: 1.6683 - accuracy: 0.4404 - val_loss: 1.8737 - val_accuracy: 0.3564\n",
      "Epoch 3/5\n",
      "235/235 [==============================] - 44s 185ms/step - loss: 1.2353 - accuracy: 0.6088 - val_loss: 2.0248 - val_accuracy: 0.3276\n",
      "Epoch 4/5\n",
      "235/235 [==============================] - 44s 185ms/step - loss: 0.7026 - accuracy: 0.7969 - val_loss: 2.3563 - val_accuracy: 0.3260\n",
      "Epoch 5/5\n",
      "235/235 [==============================] - 43s 185ms/step - loss: 0.3364 - accuracy: 0.9151 - val_loss: 2.8878 - val_accuracy: 0.3024\n"
     ]
    }
   ],
   "source": [
    "model_2 = Sequential([\n",
    "    Conv2D(10,3,activation=\"relu\"),\n",
    "    MaxPool2D(),\n",
    "    Conv2D(10,3,activation=\"relu\"),\n",
    "    MaxPool2D(),\n",
    "    Flatten(),\n",
    "    Dense(10,activation=\"softmax\")\n",
    "])\n",
    "\n",
    "model_2.compile(loss=\"categorical_crossentropy\",\n",
    "               optimizer=tf.keras.optimizers.Adam(),\n",
    "               metrics=[\"accuracy\"])\n",
    "history_2 = model_2.fit(train_data,\n",
    "                       epochs=5,\n",
    "                       steps_per_epoch=len(train_data),\n",
    "                       validation_data=test_data,\n",
    "                       validation_steps=len(test_data))"
   ]
  },
  {
   "cell_type": "code",
   "execution_count": 16,
   "id": "b3772b89",
   "metadata": {
    "execution": {
     "iopub.execute_input": "2023-01-15T18:45:29.692202Z",
     "iopub.status.busy": "2023-01-15T18:45:29.691558Z",
     "iopub.status.idle": "2023-01-15T18:45:30.108770Z",
     "shell.execute_reply": "2023-01-15T18:45:30.107838Z"
    },
    "papermill": {
     "duration": 0.558609,
     "end_time": "2023-01-15T18:45:30.111124",
     "exception": false,
     "start_time": "2023-01-15T18:45:29.552515",
     "status": "completed"
    },
    "tags": []
   },
   "outputs": [
    {
     "data": {
      "image/png": "[encoded data removed]",
      "text/plain": [
       "<Figure size 432x288 with 1 Axes>"
      ]
     },
     "metadata": {
      "needs_background": "light"
     },
     "output_type": "display_data"
    },
    {
     "data": {
      "image/png": "[encoded data removed]",
      "text/plain": [
       "<Figure size 432x288 with 1 Axes>"
      ]
     },
     "metadata": {
      "needs_background": "light"
     },
     "output_type": "display_data"
    }
   ],
   "source": [
    "# Loss curves of model\n",
    "plot_loss_curves(history_2)"
   ]
  },
  {
   "cell_type": "markdown",
   "id": "cf28d947",
   "metadata": {
    "papermill": {
     "duration": 0.138642,
     "end_time": "2023-01-15T18:45:30.388034",
     "exception": false,
     "start_time": "2023-01-15T18:45:30.249392",
     "status": "completed"
    },
    "tags": []
   },
   "source": [
    "As **simplifying the model** didn't work too well, and the overfitting continued. Now we should  try **data augmentation**. "
   ]
  },
  {
   "cell_type": "code",
   "execution_count": 17,
   "id": "59a2a556",
   "metadata": {
    "execution": {
     "iopub.execute_input": "2023-01-15T18:45:30.665230Z",
     "iopub.status.busy": "2023-01-15T18:45:30.664871Z",
     "iopub.status.idle": "2023-01-15T18:45:31.102276Z",
     "shell.execute_reply": "2023-01-15T18:45:31.101040Z"
    },
    "papermill": {
     "duration": 0.579264,
     "end_time": "2023-01-15T18:45:31.104412",
     "exception": false,
     "start_time": "2023-01-15T18:45:30.525148",
     "status": "completed"
    },
    "tags": []
   },
   "outputs": [
    {
     "name": "stdout",
     "output_type": "stream",
     "text": [
      "Found 7500 images belonging to 10 classes.\n"
     ]
    }
   ],
   "source": [
    "# Create an augmented data generator instance\n",
    "\n",
    "train_datagen_augmented = ImageDataGenerator(rescale=1/255.,\n",
    "                                            rotation_range=0.2,\n",
    "                                            width_shift_range=0.2,\n",
    "                                            height_shift_range=0.2,\n",
    "                                            zoom_range=0.2,\n",
    "                                            horizontal_flip=True)\n",
    "\n",
    "\n",
    "train_data_augmented = train_datagen_augmented.flow_from_directory(train_dir, \n",
    "                                               target_size=(224,224),\n",
    "                                                batch_size=32,\n",
    "                                                class_mode=\"categorical\")"
   ]
  },
  {
   "cell_type": "code",
   "execution_count": 18,
   "id": "7d0f17d5",
   "metadata": {
    "execution": {
     "iopub.execute_input": "2023-01-15T18:45:31.426602Z",
     "iopub.status.busy": "2023-01-15T18:45:31.426200Z",
     "iopub.status.idle": "2023-01-15T18:55:54.579170Z",
     "shell.execute_reply": "2023-01-15T18:55:54.577889Z"
    },
    "papermill": {
     "duration": 623.29507,
     "end_time": "2023-01-15T18:55:54.582767",
     "exception": false,
     "start_time": "2023-01-15T18:45:31.287697",
     "status": "completed"
    },
    "tags": []
   },
   "outputs": [
    {
     "name": "stdout",
     "output_type": "stream",
     "text": [
      "Epoch 1/5\n",
      "235/235 [==============================] - 112s 477ms/step - loss: 2.3116 - accuracy: 0.1841 - val_loss: 2.0859 - val_accuracy: 0.2636\n",
      "Epoch 2/5\n",
      "235/235 [==============================] - 113s 481ms/step - loss: 2.0744 - accuracy: 0.2619 - val_loss: 1.9718 - val_accuracy: 0.3096\n",
      "Epoch 3/5\n",
      "235/235 [==============================] - 113s 479ms/step - loss: 2.0156 - accuracy: 0.2900 - val_loss: 1.9046 - val_accuracy: 0.3428\n",
      "Epoch 4/5\n",
      "235/235 [==============================] - 113s 483ms/step - loss: 1.9718 - accuracy: 0.3125 - val_loss: 1.9108 - val_accuracy: 0.3452\n",
      "Epoch 5/5\n",
      "235/235 [==============================] - 112s 477ms/step - loss: 1.9463 - accuracy: 0.3307 - val_loss: 1.8490 - val_accuracy: 0.3648\n"
     ]
    }
   ],
   "source": [
    "# Let's create a model for augmented training data\n",
    "\n",
    "model_3 = Sequential([\n",
    "    Conv2D(10,3,input_shape=(224,224,3),activation=\"relu\"),\n",
    "    MaxPool2D(),\n",
    "    Conv2D(10,3,activation=\"relu\"),\n",
    "    MaxPool2D(),\n",
    "    Flatten(),\n",
    "    Dense(10,activation=\"softmax\")\n",
    "])\n",
    "\n",
    "model_3.compile(loss=\"categorical_crossentropy\",\n",
    "               optimizer=tf.keras.optimizers.Adam(),\n",
    "               metrics=[\"accuracy\"])\n",
    "history_3 = model_3.fit(train_data_augmented,\n",
    "                       epochs=5,\n",
    "                       steps_per_epoch=len(train_data_augmented),\n",
    "                       validation_data=test_data,\n",
    "                       validation_steps=len(test_data))"
   ]
  },
  {
   "cell_type": "code",
   "execution_count": 19,
   "id": "dcfea5f9",
   "metadata": {
    "execution": {
     "iopub.execute_input": "2023-01-15T18:55:55.237063Z",
     "iopub.status.busy": "2023-01-15T18:55:55.236607Z",
     "iopub.status.idle": "2023-01-15T18:56:15.988452Z",
     "shell.execute_reply": "2023-01-15T18:56:15.987326Z"
    },
    "papermill": {
     "duration": 21.068822,
     "end_time": "2023-01-15T18:56:15.991493",
     "exception": false,
     "start_time": "2023-01-15T18:55:54.922671",
     "status": "completed"
    },
    "tags": []
   },
   "outputs": [
    {
     "name": "stdout",
     "output_type": "stream",
     "text": [
      "79/79 [==============================] - 11s 134ms/step - loss: 1.8490 - accuracy: 0.3648\n"
     ]
    },
    {
     "data": {
      "text/plain": [
       "[1.8489586114883423, 0.36480000615119934]"
      ]
     },
     "execution_count": 19,
     "metadata": {},
     "output_type": "execute_result"
    }
   ],
   "source": [
    "model_3.evaluate(test_data)"
   ]
  },
  {
   "cell_type": "code",
   "execution_count": 20,
   "id": "470f3ff3",
   "metadata": {
    "execution": {
     "iopub.execute_input": "2023-01-15T18:56:16.647610Z",
     "iopub.status.busy": "2023-01-15T18:56:16.647251Z",
     "iopub.status.idle": "2023-01-15T18:56:17.067231Z",
     "shell.execute_reply": "2023-01-15T18:56:17.066251Z"
    },
    "papermill": {
     "duration": 0.731514,
     "end_time": "2023-01-15T18:56:17.069193",
     "exception": false,
     "start_time": "2023-01-15T18:56:16.337679",
     "status": "completed"
    },
    "tags": []
   },
   "outputs": [
    {
     "data": {
      "image/png": "[encoded data removed]",
      "text/plain": [
       "<Figure size 432x288 with 1 Axes>"
      ]
     },
     "metadata": {
      "needs_background": "light"
     },
     "output_type": "display_data"
    },
    {
     "data": {
      "image/png": "[encoded data removed]",
      "text/plain": [
       "<Figure size 432x288 with 1 Axes>"
      ]
     },
     "metadata": {
      "needs_background": "light"
     },
     "output_type": "display_data"
    }
   ],
   "source": [
    "# Plot the curve for model 3\n",
    "plot_loss_curves(history_3)"
   ]
  },
  {
   "cell_type": "code",
   "execution_count": 21,
   "id": "a764f90c",
   "metadata": {
    "execution": {
     "iopub.execute_input": "2023-01-15T18:56:17.479635Z",
     "iopub.status.busy": "2023-01-15T18:56:17.479286Z",
     "iopub.status.idle": "2023-01-15T18:56:17.485581Z",
     "shell.execute_reply": "2023-01-15T18:56:17.484635Z"
    },
    "papermill": {
     "duration": 0.214283,
     "end_time": "2023-01-15T18:56:17.489283",
     "exception": false,
     "start_time": "2023-01-15T18:56:17.275000",
     "status": "completed"
    },
    "tags": []
   },
   "outputs": [
    {
     "name": "stdout",
     "output_type": "stream",
     "text": [
      "Model: \"sequential_2\"\n",
      "_________________________________________________________________\n",
      "Layer (type)                 Output Shape              Param #   \n",
      "=================================================================\n",
      "conv2d_6 (Conv2D)            (None, 222, 222, 10)      280       \n",
      "_________________________________________________________________\n",
      "max_pooling2d_4 (MaxPooling2 (None, 111, 111, 10)      0         \n",
      "_________________________________________________________________\n",
      "conv2d_7 (Conv2D)            (None, 109, 109, 10)      910       \n",
      "_________________________________________________________________\n",
      "max_pooling2d_5 (MaxPooling2 (None, 54, 54, 10)        0         \n",
      "_________________________________________________________________\n",
      "flatten_2 (Flatten)          (None, 29160)             0         \n",
      "_________________________________________________________________\n",
      "dense_2 (Dense)              (None, 10)                291610    \n",
      "=================================================================\n",
      "Total params: 292,800\n",
      "Trainable params: 292,800\n",
      "Non-trainable params: 0\n",
      "_________________________________________________________________\n"
     ]
    }
   ],
   "source": [
    "model_3.summary()"
   ]
  },
  {
   "cell_type": "markdown",
   "id": "55c2cd37",
   "metadata": {
    "papermill": {
     "duration": 0.20416,
     "end_time": "2023-01-15T18:56:17.947176",
     "exception": false,
     "start_time": "2023-01-15T18:56:17.743016",
     "status": "completed"
    },
    "tags": []
   },
   "source": [
    "As there are not much improvement, we can make changes to our model, such as\n",
    "+ Increasing layer and hidden units.\n",
    "+ Adjust the learning rate.\n",
    "+ try different method of Data Augmentation.\n",
    "+ fit for longer.\n",
    "+ Other model hyperparamater modification.\n",
    "+ try **transfer learning**"
   ]
  },
  {
   "cell_type": "markdown",
   "id": "1cba2563",
   "metadata": {
    "papermill": {
     "duration": 0.203111,
     "end_time": "2023-01-15T18:56:18.353443",
     "exception": false,
     "start_time": "2023-01-15T18:56:18.150332",
     "status": "completed"
    },
    "tags": []
   },
   "source": [
    "For now we are making prediction on the trained model."
   ]
  },
  {
   "cell_type": "code",
   "execution_count": 22,
   "id": "ad6894f5",
   "metadata": {
    "execution": {
     "iopub.execute_input": "2023-01-15T18:56:18.763691Z",
     "iopub.status.busy": "2023-01-15T18:56:18.763330Z",
     "iopub.status.idle": "2023-01-15T18:56:24.406030Z",
     "shell.execute_reply": "2023-01-15T18:56:24.404690Z"
    },
    "papermill": {
     "duration": 5.850959,
     "end_time": "2023-01-15T18:56:24.408673",
     "exception": false,
     "start_time": "2023-01-15T18:56:18.557714",
     "status": "completed"
    },
    "tags": []
   },
   "outputs": [
    {
     "name": "stdout",
     "output_type": "stream",
     "text": [
      "--2023-01-15 18:56:19--  https://github.com/mrdbourke/tensorflow-deep-learning/blob/main/images/03-hamburger.jpeg\r\n",
      "Resolving github.com (github.com)... 140.82.113.4\r\n",
      "Connecting to github.com (github.com)|140.82.113.4|:443... connected.\r\n",
      "HTTP request sent, awaiting response... 200 OK\r\n",
      "Length: unspecified [text/html]\r\n",
      "Saving to: ‘03-hamburger.jpeg’\r\n",
      "\r\n",
      "03-hamburger.jpeg       [  <=>               ] 138.76K   527KB/s    in 0.3s    \r\n",
      "\r\n",
      "2023-01-15 18:56:20 (527 KB/s) - ‘03-hamburger.jpeg’ saved [142086]\r\n",
      "\r\n",
      "--2023-01-15 18:56:21--  https://github.com/mrdbourke/tensorflow-deep-learning/blob/main/images/03-pizza-dad.jpeg\r\n",
      "Resolving github.com (github.com)... 140.82.113.4\r\n",
      "Connecting to github.com (github.com)|140.82.113.4|:443... connected.\r\n",
      "HTTP request sent, awaiting response... 200 OK\r\n",
      "Length: unspecified [text/html]\r\n",
      "Saving to: ‘03-pizza-dad.jpeg’\r\n",
      "\r\n",
      "03-pizza-dad.jpeg       [  <=>               ] 143.45K   547KB/s    in 0.3s    \r\n",
      "\r\n",
      "2023-01-15 18:56:22 (547 KB/s) - ‘03-pizza-dad.jpeg’ saved [146892]\r\n",
      "\r\n",
      "--2023-01-15 18:56:23--  https://github.com/mrdbourke/tensorflow-deep-learning/blob/main/images/03-simple-convnet.png\r\n",
      "Resolving github.com (github.com)... 140.82.113.4\r\n",
      "Connecting to github.com (github.com)|140.82.113.4|:443... connected.\r\n",
      "HTTP request sent, awaiting response... 200 OK\r\n",
      "Length: unspecified [text/html]\r\n",
      "Saving to: ‘03-simple-convnet.png’\r\n",
      "\r\n",
      "03-simple-convnet.p     [  <=>               ] 138.98K   528KB/s    in 0.3s    \r\n",
      "\r\n",
      "2023-01-15 18:56:24 (528 KB/s) - ‘03-simple-convnet.png’ saved [142319]\r\n",
      "\r\n"
     ]
    }
   ],
   "source": [
    "# Download some sample files\n",
    "!wget https://github.com/mrdbourke/tensorflow-deep-learning/blob/main/images/03-hamburger.jpeg\n",
    "!wget https://github.com/mrdbourke/tensorflow-deep-learning/blob/main/images/03-pizza-dad.jpeg\n",
    "!wget https://github.com/mrdbourke/tensorflow-deep-learning/blob/main/images/03-simple-convnet.png"
   ]
  },
  {
   "cell_type": "code",
   "execution_count": 23,
   "id": "999744da",
   "metadata": {
    "execution": {
     "iopub.execute_input": "2023-01-15T18:56:24.821507Z",
     "iopub.status.busy": "2023-01-15T18:56:24.821115Z",
     "iopub.status.idle": "2023-01-15T18:56:25.131161Z",
     "shell.execute_reply": "2023-01-15T18:56:25.129603Z"
    },
    "papermill": {
     "duration": 0.51985,
     "end_time": "2023-01-15T18:56:25.132985",
     "exception": true,
     "start_time": "2023-01-15T18:56:24.613135",
     "status": "failed"
    },
    "tags": []
   },
   "outputs": [
    {
     "ename": "InvalidArgumentError",
     "evalue": "Unknown image file format. One of JPEG, PNG, GIF, BMP required. [Op:DecodeImage]",
     "output_type": "error",
     "traceback": [
      "\u001b[0;31m---------------------------------------------------------------------------\u001b[0m",
      "\u001b[0;31mInvalidArgumentError\u001b[0m                      Traceback (most recent call last)",
      "\u001b[0;32m/tmp/ipykernel_23/3649340096.py\u001b[0m in \u001b[0;36m<module>\u001b[0;34m\u001b[0m\n\u001b[1;32m     20\u001b[0m \u001b[0;34m\u001b[0m\u001b[0m\n\u001b[1;32m     21\u001b[0m \u001b[0;34m\u001b[0m\u001b[0m\n\u001b[0;32m---> 22\u001b[0;31m \u001b[0mload_and_prep_image\u001b[0m\u001b[0;34m(\u001b[0m\u001b[0;34m\"/kaggle/input/test-images/03-pizza-dad.jpeg\"\u001b[0m\u001b[0;34m)\u001b[0m\u001b[0;34m\u001b[0m\u001b[0;34m\u001b[0m\u001b[0m\n\u001b[0m",
      "\u001b[0;32m/tmp/ipykernel_23/3649340096.py\u001b[0m in \u001b[0;36mload_and_prep_image\u001b[0;34m(filename, img_shape)\u001b[0m\n\u001b[1;32m     10\u001b[0m \u001b[0;34m\u001b[0m\u001b[0m\n\u001b[1;32m     11\u001b[0m \u001b[0;31m#     # Decode the read file into a tensor\u001b[0m\u001b[0;34m\u001b[0m\u001b[0;34m\u001b[0m\u001b[0;34m\u001b[0m\u001b[0m\n\u001b[0;32m---> 12\u001b[0;31m     \u001b[0mimg\u001b[0m \u001b[0;34m=\u001b[0m \u001b[0mtf\u001b[0m\u001b[0;34m.\u001b[0m\u001b[0mimage\u001b[0m\u001b[0;34m.\u001b[0m\u001b[0mdecode_image\u001b[0m\u001b[0;34m(\u001b[0m\u001b[0mimg\u001b[0m\u001b[0;34m)\u001b[0m\u001b[0;34m\u001b[0m\u001b[0;34m\u001b[0m\u001b[0m\n\u001b[0m\u001b[1;32m     13\u001b[0m \u001b[0;34m\u001b[0m\u001b[0m\n\u001b[1;32m     14\u001b[0m     \u001b[0;31m# Resize the image\u001b[0m\u001b[0;34m\u001b[0m\u001b[0;34m\u001b[0m\u001b[0;34m\u001b[0m\u001b[0m\n",
      "\u001b[0;32m/opt/conda/lib/python3.7/site-packages/tensorflow/python/util/dispatch.py\u001b[0m in \u001b[0;36mwrapper\u001b[0;34m(*args, **kwargs)\u001b[0m\n\u001b[1;32m    204\u001b[0m     \u001b[0;34m\"\"\"Call target, and fall back on dispatchers if there is a TypeError.\"\"\"\u001b[0m\u001b[0;34m\u001b[0m\u001b[0;34m\u001b[0m\u001b[0m\n\u001b[1;32m    205\u001b[0m     \u001b[0;32mtry\u001b[0m\u001b[0;34m:\u001b[0m\u001b[0;34m\u001b[0m\u001b[0;34m\u001b[0m\u001b[0m\n\u001b[0;32m--> 206\u001b[0;31m       \u001b[0;32mreturn\u001b[0m \u001b[0mtarget\u001b[0m\u001b[0;34m(\u001b[0m\u001b[0;34m*\u001b[0m\u001b[0margs\u001b[0m\u001b[0;34m,\u001b[0m \u001b[0;34m**\u001b[0m\u001b[0mkwargs\u001b[0m\u001b[0;34m)\u001b[0m\u001b[0;34m\u001b[0m\u001b[0;34m\u001b[0m\u001b[0m\n\u001b[0m\u001b[1;32m    207\u001b[0m     \u001b[0;32mexcept\u001b[0m \u001b[0;34m(\u001b[0m\u001b[0mTypeError\u001b[0m\u001b[0;34m,\u001b[0m \u001b[0mValueError\u001b[0m\u001b[0;34m)\u001b[0m\u001b[0;34m:\u001b[0m\u001b[0;34m\u001b[0m\u001b[0;34m\u001b[0m\u001b[0m\n\u001b[1;32m    208\u001b[0m       \u001b[0;31m# Note: convert_to_eager_tensor currently raises a ValueError, not a\u001b[0m\u001b[0;34m\u001b[0m\u001b[0;34m\u001b[0m\u001b[0;34m\u001b[0m\u001b[0m\n",
      "\u001b[0;32m/opt/conda/lib/python3.7/site-packages/tensorflow/python/ops/image_ops_impl.py\u001b[0m in \u001b[0;36mdecode_image\u001b[0;34m(contents, channels, dtype, name, expand_animations)\u001b[0m\n\u001b[1;32m   3208\u001b[0m           \u001b[0mchannels\u001b[0m\u001b[0;34m=\u001b[0m\u001b[0mchannels\u001b[0m\u001b[0;34m,\u001b[0m\u001b[0;34m\u001b[0m\u001b[0;34m\u001b[0m\u001b[0m\n\u001b[1;32m   3209\u001b[0m           \u001b[0mexpand_animations\u001b[0m\u001b[0;34m=\u001b[0m\u001b[0mexpand_animations\u001b[0m\u001b[0;34m,\u001b[0m\u001b[0;34m\u001b[0m\u001b[0;34m\u001b[0m\u001b[0m\n\u001b[0;32m-> 3210\u001b[0;31m           dtype=dtype)\n\u001b[0m\u001b[1;32m   3211\u001b[0m \u001b[0;34m\u001b[0m\u001b[0m\n\u001b[1;32m   3212\u001b[0m \u001b[0;34m\u001b[0m\u001b[0m\n",
      "\u001b[0;32m/opt/conda/lib/python3.7/site-packages/tensorflow/python/ops/gen_image_ops.py\u001b[0m in \u001b[0;36mdecode_image\u001b[0;34m(contents, channels, dtype, expand_animations, name)\u001b[0m\n\u001b[1;32m   1046\u001b[0m       \u001b[0;32mreturn\u001b[0m \u001b[0m_result\u001b[0m\u001b[0;34m\u001b[0m\u001b[0;34m\u001b[0m\u001b[0m\n\u001b[1;32m   1047\u001b[0m     \u001b[0;32mexcept\u001b[0m \u001b[0m_core\u001b[0m\u001b[0;34m.\u001b[0m\u001b[0m_NotOkStatusException\u001b[0m \u001b[0;32mas\u001b[0m \u001b[0me\u001b[0m\u001b[0;34m:\u001b[0m\u001b[0;34m\u001b[0m\u001b[0;34m\u001b[0m\u001b[0m\n\u001b[0;32m-> 1048\u001b[0;31m       \u001b[0m_ops\u001b[0m\u001b[0;34m.\u001b[0m\u001b[0mraise_from_not_ok_status\u001b[0m\u001b[0;34m(\u001b[0m\u001b[0me\u001b[0m\u001b[0;34m,\u001b[0m \u001b[0mname\u001b[0m\u001b[0;34m)\u001b[0m\u001b[0;34m\u001b[0m\u001b[0;34m\u001b[0m\u001b[0m\n\u001b[0m\u001b[1;32m   1049\u001b[0m     \u001b[0;32mexcept\u001b[0m \u001b[0m_core\u001b[0m\u001b[0;34m.\u001b[0m\u001b[0m_FallbackException\u001b[0m\u001b[0;34m:\u001b[0m\u001b[0;34m\u001b[0m\u001b[0;34m\u001b[0m\u001b[0m\n\u001b[1;32m   1050\u001b[0m       \u001b[0;32mpass\u001b[0m\u001b[0;34m\u001b[0m\u001b[0;34m\u001b[0m\u001b[0m\n",
      "\u001b[0;32m/opt/conda/lib/python3.7/site-packages/tensorflow/python/framework/ops.py\u001b[0m in \u001b[0;36mraise_from_not_ok_status\u001b[0;34m(e, name)\u001b[0m\n\u001b[1;32m   6939\u001b[0m   \u001b[0mmessage\u001b[0m \u001b[0;34m=\u001b[0m \u001b[0me\u001b[0m\u001b[0;34m.\u001b[0m\u001b[0mmessage\u001b[0m \u001b[0;34m+\u001b[0m \u001b[0;34m(\u001b[0m\u001b[0;34m\" name: \"\u001b[0m \u001b[0;34m+\u001b[0m \u001b[0mname\u001b[0m \u001b[0;32mif\u001b[0m \u001b[0mname\u001b[0m \u001b[0;32mis\u001b[0m \u001b[0;32mnot\u001b[0m \u001b[0;32mNone\u001b[0m \u001b[0;32melse\u001b[0m \u001b[0;34m\"\"\u001b[0m\u001b[0;34m)\u001b[0m\u001b[0;34m\u001b[0m\u001b[0;34m\u001b[0m\u001b[0m\n\u001b[1;32m   6940\u001b[0m   \u001b[0;31m# pylint: disable=protected-access\u001b[0m\u001b[0;34m\u001b[0m\u001b[0;34m\u001b[0m\u001b[0;34m\u001b[0m\u001b[0m\n\u001b[0;32m-> 6941\u001b[0;31m   \u001b[0msix\u001b[0m\u001b[0;34m.\u001b[0m\u001b[0mraise_from\u001b[0m\u001b[0;34m(\u001b[0m\u001b[0mcore\u001b[0m\u001b[0;34m.\u001b[0m\u001b[0m_status_to_exception\u001b[0m\u001b[0;34m(\u001b[0m\u001b[0me\u001b[0m\u001b[0;34m.\u001b[0m\u001b[0mcode\u001b[0m\u001b[0;34m,\u001b[0m \u001b[0mmessage\u001b[0m\u001b[0;34m)\u001b[0m\u001b[0;34m,\u001b[0m \u001b[0;32mNone\u001b[0m\u001b[0;34m)\u001b[0m\u001b[0;34m\u001b[0m\u001b[0;34m\u001b[0m\u001b[0m\n\u001b[0m\u001b[1;32m   6942\u001b[0m   \u001b[0;31m# pylint: enable=protected-access\u001b[0m\u001b[0;34m\u001b[0m\u001b[0;34m\u001b[0m\u001b[0;34m\u001b[0m\u001b[0m\n\u001b[1;32m   6943\u001b[0m \u001b[0;34m\u001b[0m\u001b[0m\n",
      "\u001b[0;32m/opt/conda/lib/python3.7/site-packages/six.py\u001b[0m in \u001b[0;36mraise_from\u001b[0;34m(value, from_value)\u001b[0m\n",
      "\u001b[0;31mInvalidArgumentError\u001b[0m: Unknown image file format. One of JPEG, PNG, GIF, BMP required. [Op:DecodeImage]"
     ]
    }
   ],
   "source": [
    "# Make a prediction on `model_3`\n",
    "import tensorflow as tf\n",
    "def load_and_prep_image(filename, img_shape=224):\n",
    "    '''\n",
    "    Read an image from the filename and turn it into (img_shape, img_shape, colour_channel) tensor\n",
    "    '''\n",
    "    # Read in the image\n",
    "    img= tf.io.read_file(filename)\n",
    "\n",
    "    \n",
    "#     # Decode the read file into a tensor\n",
    "    img = tf.image.decode_image(img)\n",
    "    \n",
    "    # Resize the image\n",
    "    img = tf.image.resize(img, size=[img_shape, img_shape])\n",
    "    \n",
    "    # Rescale the image and get all values between 0 and 1\n",
    "    img= img/255. \n",
    "    return img\n",
    "\n",
    "\n",
    "load_and_prep_image(\"/kaggle/input/test-images/03-pizza-dad.jpeg\")\n"
   ]
  },
  {
   "cell_type": "code",
   "execution_count": null,
   "id": "55d080f3",
   "metadata": {
    "papermill": {
     "duration": null,
     "end_time": null,
     "exception": null,
     "start_time": null,
     "status": "pending"
    },
    "tags": []
   },
   "outputs": [],
   "source": [
    "def pred_and_plot(model, filename, class_names=class_names):\n",
    "    # Import the target image and preprocess it\n",
    "    img = load_and_prep_image(filename)\n",
    "    \n",
    "    # Make a prediction\n",
    "    pred = model.predict(tf.expand_dims(img, axis=0))\n",
    "    \n",
    "    # Get the predicted class\n",
    "    pred_class = class_names[int(tf.round(pred))]\n",
    "    \n",
    "    # Plot the image\n",
    "    plt.imshow(img)\n",
    "    plt.title(f\"Prediction: {pred_class}\")\n",
    "    plt.axis(False)"
   ]
  },
  {
   "cell_type": "code",
   "execution_count": null,
   "id": "309172ff",
   "metadata": {
    "execution": {
     "iopub.execute_input": "2023-01-15T18:34:53.139565Z",
     "iopub.status.busy": "2023-01-15T18:34:53.139136Z",
     "iopub.status.idle": "2023-01-15T18:34:53.143749Z",
     "shell.execute_reply": "2023-01-15T18:34:53.142784Z",
     "shell.execute_reply.started": "2023-01-15T18:34:53.139526Z"
    },
    "papermill": {
     "duration": null,
     "end_time": null,
     "exception": null,
     "start_time": null,
     "status": "pending"
    },
    "tags": []
   },
   "outputs": [],
   "source": [
    "pred_and_plot(model=model_3,\n",
    "              filename=\"/kaggle/working/03-simple-convnet.png\",\n",
    "             class_names=list(class_names))"
   ]
  },
  {
   "cell_type": "code",
   "execution_count": null,
   "id": "36c96cb6",
   "metadata": {
    "papermill": {
     "duration": null,
     "end_time": null,
     "exception": null,
     "start_time": null,
     "status": "pending"
    },
    "tags": []
   },
   "outputs": [],
   "source": []
  }
 ],
 "metadata": {
  "kernelspec": {
   "display_name": "Python 3",
   "language": "python",
   "name": "python3"
  },
  "language_info": {
   "codemirror_mode": {
    "name": "ipython",
    "version": 3
   },
   "file_extension": ".py",
   "mimetype": "text/x-python",
   "name": "python",
   "nbconvert_exporter": "python",
   "pygments_lexer": "ipython3",
   "version": "3.10.9"
  },
  "papermill": {
   "default_parameters": {},
   "duration": 1232.976413,
   "end_time": "2023-01-15T18:56:28.306025",
   "environment_variables": {},
   "exception": true,
   "input_path": "__notebook__.ipynb",
   "output_path": "__notebook__.ipynb",
   "parameters": {},
   "start_time": "2023-01-15T18:35:55.329612",
   "version": "2.3.4"
  }
 },
 "nbformat": 4,
 "nbformat_minor": 5
}
